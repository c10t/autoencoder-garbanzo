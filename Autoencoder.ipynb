{
 "cells": [
  {
   "cell_type": "code",
   "execution_count": 1,
   "metadata": {},
   "outputs": [],
   "source": [
    "import os\n",
    "import glob\n",
    "import math\n",
    "import random\n",
    "\n",
    "import numpy as np\n",
    "import matplotlib.pyplot as plt\n",
    "\n",
    "from tensorflow.python import keras\n",
    "from tensorflow.python.keras import backend as K\n",
    "from tensorflow.python.keras.models import Model, Sequential\n",
    "from tensorflow.python.keras.layers import Conv2D, Dense, Input, MaxPooling2D, UpSampling2D, Lambda\n",
    "from tensorflow.python.keras.preprocessing.image import load_img, img_to_array, array_to_img, ImageDataGenerator"
   ]
  },
  {
   "cell_type": "code",
   "execution_count": 2,
   "metadata": {},
   "outputs": [],
   "source": [
    "from tensorflow.python.keras.datasets import mnist\n",
    "\n",
    "(x_train, _), (x_test, _) = mnist.load_data()\n",
    "\n",
    "x_train = x_train.reshape(-1, 28, 28, 1)\n",
    "x_test  = x_test.reshape(-1, 28, 28, 1)\n",
    "\n",
    "# Normalize\n",
    "x_train = x_train/255.\n",
    "x_test  = x_test/255."
   ]
  },
  {
   "cell_type": "code",
   "execution_count": 3,
   "metadata": {},
   "outputs": [],
   "source": [
    "def make_masking_noised_data(data_x, percent=0.1):\n",
    "    size = data_x.shape\n",
    "    masking = np.random.binomial(n=1, p=percent, size=size)\n",
    "    return data_x * masking\n",
    "\n",
    "x_train_masked = make_masking_noised_data(x_train)\n",
    "x_test_masked  = make_masking_noised_data(x_test)"
   ]
  },
  {
   "cell_type": "code",
   "execution_count": 4,
   "metadata": {},
   "outputs": [],
   "source": [
    "def make_gaussian_noised_data(data_x, scale=0.8):\n",
    "    gaussed_x = data_x + np.random.normal(loc=0, scale=scale, size=data_x.shape)\n",
    "    gaussed_x = np.clip(gaussed_x, 0, 1)\n",
    "    return gaussed_x\n",
    "\n",
    "x_train_gauss = make_gaussian_noised_data(x_train)\n",
    "x_test_gauss  = make_gaussian_noised_data(x_test)"
   ]
  },
  {
   "cell_type": "code",
   "execution_count": 6,
   "metadata": {},
   "outputs": [
    {
     "data": {
      "image/png": "[encoded data removed]"
     },
     "metadata": {},
     "output_type": "display_data"
    },
    {
     "data": {
      "image/png": "[encoded data removed]"
     },
     "metadata": {},
     "output_type": "display_data"
    },
    {
     "data": {
      "image/png": "[encoded data removed]"
     },
     "metadata": {},
     "output_type": "display_data"
    }
   ],
   "source": [
    "from IPython.display import display_png\n",
    "\n",
    "display_png(array_to_img(x_train[0]))\n",
    "display_png(array_to_img(x_train_masked[0]))\n",
    "display_png(array_to_img(x_train_gauss[0]))"
   ]
  },
  {
   "cell_type": "markdown",
   "metadata": {
    "collapsed": true
   },
   "source": [
    "# Creating Convolutional Autoencoder Model"
   ]
  },
  {
   "cell_type": "code",
   "execution_count": 10,
   "metadata": {},
   "outputs": [
    {
     "name": "stdout",
     "output_type": "stream",
     "text": [
      "_________________________________________________________________\n",
      "Layer (type)                 Output Shape              Param #   \n",
      "=================================================================\n",
      "conv2d_12 (Conv2D)           (None, 28, 28, 16)        160       \n",
      "_________________________________________________________________\n",
      "max_pooling2d_5 (MaxPooling2 (None, 14, 14, 16)        0         \n",
      "_________________________________________________________________\n",
      "conv2d_13 (Conv2D)           (None, 14, 14, 8)         1160      \n",
      "_________________________________________________________________\n",
      "max_pooling2d_6 (MaxPooling2 (None, 7, 7, 8)           0         \n",
      "_________________________________________________________________\n",
      "conv2d_14 (Conv2D)           (None, 7, 7, 8)           584       \n",
      "_________________________________________________________________\n",
      "up_sampling2d_4 (UpSampling2 (None, 14, 14, 8)         0         \n",
      "_________________________________________________________________\n",
      "conv2d_15 (Conv2D)           (None, 14, 14, 16)        1168      \n",
      "_________________________________________________________________\n",
      "up_sampling2d_5 (UpSampling2 (None, 28, 28, 16)        0         \n",
      "_________________________________________________________________\n",
      "conv2d_16 (Conv2D)           (None, 28, 28, 1)         145       \n",
      "=================================================================\n",
      "Total params: 3,217\n",
      "Trainable params: 3,217\n",
      "Non-trainable params: 0\n",
      "_________________________________________________________________\n"
     ]
    }
   ],
   "source": [
    "cae = Sequential()\n",
    "\n",
    "# Encoder\n",
    "cae.add(Conv2D(16, (3, 3), 1, activation='relu', padding='same', input_shape=(28, 28, 1)))\n",
    "cae.add(MaxPooling2D((2, 2), padding='same'))\n",
    "cae.add(Conv2D(8, (3, 3), 1, activation='relu', padding='same'))\n",
    "cae.add(MaxPooling2D((2, 2), padding='same'))\n",
    "\n",
    "# Decoder\n",
    "cae.add(Conv2D(8, (3, 3), 1, activation='relu', padding='same'))\n",
    "cae.add(UpSampling2D((2, 2)))\n",
    "cae.add(Conv2D(16, (3, 3), 1, activation='relu', padding='same'))\n",
    "cae.add(UpSampling2D((2, 2)))\n",
    "cae.add(Conv2D(1, (3, 3), 1, activation='sigmoid', padding='same'))\n",
    "\n",
    "cae.compile(optimizer='adam', loss='binary_crossentropy')\n",
    "\n",
    "initial_weights = cae.get_weights()\n",
    "\n",
    "cae.summary()"
   ]
  },
  {
   "cell_type": "code",
   "execution_count": null,
   "metadata": {},
   "outputs": [],
   "source": []
  }
 ],
 "metadata": {
  "kernelspec": {
   "display_name": "Python [conda root]",
   "language": "python",
   "name": "conda-root-py"
  },
  "language_info": {
   "codemirror_mode": {
    "name": "ipython",
    "version": 3
   },
   "file_extension": ".py",
   "mimetype": "text/x-python",
   "name": "python",
   "nbconvert_exporter": "python",
   "pygments_lexer": "ipython3",
   "version": "3.6.6"
  }
 },
 "nbformat": 4,
 "nbformat_minor": 2
}
